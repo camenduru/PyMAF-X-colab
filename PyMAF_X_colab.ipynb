{
  "cells": [
    {
      "cell_type": "markdown",
      "metadata": {
        "id": "view-in-github"
      },
      "source": [
        "[![Open In Colab](https://colab.research.google.com/assets/colab-badge.svg)](https://colab.research.google.com/github/camenduru/PyMAF-X-colab/blob/main/PyMAF_X_colab.ipynb)"
      ]
    },
    {
      "cell_type": "code",
      "execution_count": null,
      "metadata": {
        "id": "VjYy0F2gZIPR"
      },
      "outputs": [],
      "source": [
        "%cd /content\n",
        "!git clone -b dev https://github.com/camenduru/PyMAF-X\n",
        "%cd /content/PyMAF-X\n",
        "\n",
        "!apt -y install -qq aria2\n",
        "!aria2c --console-log-level=error -c -x 16 -s 16 -k 1M https://huggingface.co/camenduru/PyMAF-X/resolve/main/data.zip -d /content/PyMAF-X -o data.zip\n",
        "!aria2c --console-log-level=error -c -x 16 -s 16 -k 1M https://huggingface.co/camenduru/PyMAF-X/resolve/main/examples.zip -d /content/PyMAF-X -o examples.zip\n",
        "\n",
        "!unzip data.zip\n",
        "!mkdir /content/PyMAF-X/examples\n",
        "%cd /content/PyMAF-X/examples\n",
        "!unzip /content/PyMAF-X/examples.zip\n",
        "%cd /content/PyMAF-X\n",
        "\n",
        "!pip install -q yacs einops smplx boto3 kornia json_tricks trimesh pyrender openpifpaf chumpy\n",
        "!pip install -q https://github.com/camenduru/wheels/releases/download/colab/pytorch3d-0.7.5-cp310-cp310-linux_x86_64.whl\n",
        "!pip install -q https://github.com/camenduru/wheels/releases/download/colab/openpifpaf-0.13.11+8.gd192643.dirty-cp310-cp310-linux_x86_64.whl"
      ]
    },
    {
      "cell_type": "code",
      "execution_count": null,
      "metadata": {},
      "outputs": [],
      "source": [
        "%cd /content/PyMAF-X\n",
        "!python -m apps.demo_smplx --vid_file examples/dancer.mp4 --pretrained_model data/pretrained_model/PyMAF-X_model_checkpoint_v1.1.pt --misc TRAIN.BHF_MODE full_body MODEL.PyMAF.HAND_VIS_TH 0.1"
      ]
    },
    {
      "cell_type": "code",
      "execution_count": null,
      "metadata": {},
      "outputs": [],
      "source": [
        "%cd /content/PyMAF-X\n",
        "!python -m apps.demo_smplx --image_folder examples/coco_images --detection_threshold 0.3 --pretrained_model data/pretrained_model/PyMAF-X_model_checkpoint_v1.1.pt --misc TRAIN.BHF_MODE full_body MODEL.PyMAF.HAND_VIS_TH 0.1"
      ]
    },
    {
      "cell_type": "code",
      "execution_count": null,
      "metadata": {},
      "outputs": [],
      "source": [
        "# Display the generated image\n",
        "from IPython.display import Image\n",
        "Image(filename='output/coco_images/coco_images_output/COCO_val2014_000000004700.png')"
      ]
    },
    {
      "cell_type": "code",
      "execution_count": null,
      "metadata": {},
      "outputs": [],
      "source": [
        "# Display the generated image\n",
        "from IPython.display import Image\n",
        "Image(filename='output/coco_images/coco_images_output/COCO_val2014_000000477655.png')"
      ]
    }
  ],
  "metadata": {
    "accelerator": "GPU",
    "colab": {
      "gpuType": "T4",
      "provenance": []
    },
    "kernelspec": {
      "display_name": "Python 3",
      "name": "python3"
    },
    "language_info": {
      "name": "python"
    }
  },
  "nbformat": 4,
  "nbformat_minor": 0
}
